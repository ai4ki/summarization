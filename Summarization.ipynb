{
 "cells": [
  {
   "cell_type": "markdown",
   "id": "be03dbe7",
   "metadata": {},
   "source": [
    "# Summarization\n",
    "\n",
    "*Updated: 01/27/2022*\n",
    "\n",
    "This notebook allows you to summarize texts by using two different approaches.\n",
    "\n",
    "The first approach is called 'Extractive Summarization' (ES). As its name suggests, ES employs algorithms, which try to identify and extract the most relevant sentences from a text. ES is a computationally  efficient and fast summarization approach. \n",
    "\n",
    "The second approach is called 'Abstractive Summarization' (AS). This approach is based on (large) language models (LLM) for which the so called transformer architecture has become the de-facto standard. Having 'seen' enough pairs of text and a summary during training and leveraging its general language capabilities, an LLM can generate a summary that can contain original sentences verbatim alongside rewritten or newly generated text. In contrast to ES, AS is very compute expensive.      \n",
    "\n",
    "Scientific texts strongly differ from most other texts in structure, form, and style. As LLMs are usually trained on vast troves of diverese texts scraped off the internet, we can't expect them to deal particularly well with scientific literature (unless we fine-tune them for this task). \n",
    "\n",
    "It is, therefore, strongly recommended to first use ES algorithms as they return original sentences from the text. AS might, instead, be a good starting point in case you have to write a summary, say, for a project proposal.     \n",
    "\n",
    "## Working with Jupyter notebooks\n",
    "\n",
    "In case you are not familiar with Jupyter notebooks, this is how to go about it: In order to execute a piece of code, click inside a cell (the ones with `[]` to the left) and press Shift+Enter. Wait until the cell is done--that's when the `*` in `[]` turned into a number--and move on to the next cell.\n",
    "\n",
    "If you get inconceivable error messages or the notebook gets stuck, choose \"Restart & Clear Output\" in the \"Kernel\" dropdown-menu above and start afresh. \n",
    "\n",
    "___\n",
    "**Please help us to improve this tool by [emailing us](mailto:ai4ki.dev@gmail.com?subject=ai4ki-tools:%20Summarization) your update ideas or error reports.**\n",
    "___"
   ]
  },
  {
   "cell_type": "markdown",
   "id": "8d0998c2",
   "metadata": {},
   "source": [
    "## Preparation: Import libraries"
   ]
  },
  {
   "cell_type": "code",
   "execution_count": 1,
   "id": "70223922",
   "metadata": {},
   "outputs": [],
   "source": [
    "import transformers\n",
    "from summarization_utils import *\n",
    "from transformers import pipeline\n",
    "transformers.logging.set_verbosity_error()"
   ]
  },
  {
   "cell_type": "markdown",
   "id": "9d9eddd0",
   "metadata": {},
   "source": [
    "## Data Preprocessing"
   ]
  },
  {
   "cell_type": "markdown",
   "id": "b0cea0e3",
   "metadata": {},
   "source": [
    "### Step 1: Load your text\n",
    "You can provide your text in the `.pdf` or `.txt`-formats.\n",
    "\n",
    "Note that we use Adobe's Document Services API for extracting PDF content. This API is not a free service and thus requires credentials. You can regsiter for a free trial  [here](https://www.adobe.io/apis/documentcloud/dcsdk/). In case you need support with authentication of your credentials, [email us](mailto:ai4ki.dev@gmail.com?subject=Summarization:%20Authentication%20Issues). \n",
    "\n",
    "In future updates of this notebook, we will try to implement an open source alternative like [this one](https://github.com/allenai/s2orc-doc2json).\n",
    "\n",
    "*Run the following cell, and enter the name of your file.*"
   ]
  },
  {
   "cell_type": "code",
   "execution_count": 2,
   "id": "db58d5b3",
   "metadata": {},
   "outputs": [
    {
     "name": "stdout",
     "output_type": "stream",
     "text": [
      "Enter filename: Mehring2020_Article_ASystematicReviewOfBiodiversit.pdf\n"
     ]
    }
   ],
   "source": [
    "#Enter the name of your file\n",
    "infile = input('Enter filename: ')"
   ]
  },
  {
   "cell_type": "markdown",
   "id": "f920f055",
   "metadata": {},
   "source": [
    "#### 1.1: Fetch an article from the Web (optional)\n",
    "*Run the following cell, enter the full URL of the article you want to summarize, and proceed directly to summarization.*"
   ]
  },
  {
   "cell_type": "code",
   "execution_count": null,
   "id": "202d8c31",
   "metadata": {},
   "outputs": [],
   "source": [
    "url = input('Enter full URL: ')\n",
    "text_to_summarize = fetch_article(url)"
   ]
  },
  {
   "cell_type": "markdown",
   "id": "a819527d",
   "metadata": {},
   "source": [
    "### Step 2: Convert your text into a machine readable format"
   ]
  },
  {
   "cell_type": "code",
   "execution_count": 3,
   "id": "8378bf69",
   "metadata": {},
   "outputs": [
    {
     "name": "stdout",
     "output_type": "stream",
     "text": [
      "Preprocessing data...\n",
      "Found the following section headers in Mehring2020_Article_ASystematicReviewOfBiodiversit.pdf\n",
      "0: INTRODUCTION \n",
      "1: MATERIALS AND METHODS \n",
      "2: RESULTS \n",
      "3: DISCUSSION \n",
      "4: CONCLUSION \n",
      "5: REFERENCES \n",
      "6: AUTHOR BIOGRAPHIES \n"
     ]
    }
   ],
   "source": [
    "print(\"Preprocessing data...\")\n",
    "fulltext, _, _, headers = preprocess_data(infile, base_path='./')\n",
    "if headers:\n",
    "    print(f\"Found the following section headers in {infile}\")\n",
    "    for i, h in enumerate(headers):\n",
    "        print(f\"{i}: {h['header']}\")"
   ]
  },
  {
   "cell_type": "markdown",
   "id": "ec2229c5",
   "metadata": {},
   "source": [
    "### Step 3: Choose text section for summarization"
   ]
  },
  {
   "cell_type": "code",
   "execution_count": 4,
   "id": "df7e46f0",
   "metadata": {},
   "outputs": [
    {
     "name": "stdout",
     "output_type": "stream",
     "text": [
      "Enter section number or -1 for full text: 4\n"
     ]
    }
   ],
   "source": [
    "chap_slct = input(\"Enter section number or -1 for full text: \") \n",
    "if chap_slct == '-1':\n",
    "    text_to_summarize = fulltext\n",
    "else:\n",
    "    chap_data = headers[int(chap_slct)]\n",
    "    text_to_summarize = fulltext[chap_data['idx_start']:chap_data['idx_end']]"
   ]
  },
  {
   "cell_type": "markdown",
   "id": "429be54d",
   "metadata": {},
   "source": [
    "## Approach I: Extractive Summariztaion\n",
    "\n",
    "*Enter the desired length of your summary and the summarization algorithm. You can choose between LRS, LSA, LUHN, and KLS.*"
   ]
  },
  {
   "cell_type": "code",
   "execution_count": 5,
   "id": "b8882ec3",
   "metadata": {},
   "outputs": [
    {
     "name": "stdout",
     "output_type": "stream",
     "text": [
      "Number of sentences: 3\n",
      "Extractive algorithm: LSA\n",
      "==> SUMMARY:\n",
      "However, a considerable number of studies also point towards impacts that were context dependent, either positive or negative under certain circumstances.\n",
      "The same is true vice versa: there are few published examples showing that demographic change, when properly managed, may have a positive or at least considerably lesser negative effect on biodiversity.\n",
      "short-term migration or long-term changes in age structure) exert similar impacts on biodiversity over time as spatial demographic processes.\n"
     ]
    }
   ],
   "source": [
    "# Choose lenght of summary (i.e. number of sentences)\n",
    "len_sum = input('Number of sentences: ')\n",
    "\n",
    "# Chose extraction algorithm\n",
    "ext_alg = input('Extractive algorithm: ')\n",
    "\n",
    "# Create the summary \n",
    "summary = extractive_summarizers(text_to_summarize, method=ext_alg, max_len=int(len_sum), lang='german')\n",
    "\n",
    "# Print the summary\n",
    "print(f\"==> SUMMARY:\")\n",
    "for sentence in summary:\n",
    "    print(sentence)"
   ]
  },
  {
   "cell_type": "markdown",
   "id": "98daf802",
   "metadata": {},
   "source": [
    "## Approach II: Abstractive Summarization\n",
    "\n",
    "Large Language Models like transformers set a limit to the length their combined input and output can have. This length is measured in 'tokens'. A token does not always correspond to a word, but as a rule of thumb you can think of 100 tokens corresponding to 75 words. Typical limits are 512, 1024, or 2048 tokens (see [here](https://beta.openai.com/docs/introduction/key-concepts) for a short introduction).\n",
    "\n",
    "In the case of Huggingface's [Summarization Pipeline](https://huggingface.co/transformers/main_classes/pipelines.html#summarizationpipeline), which we use here, the limit is currently at 512 tokens. In order to to be able to summarize longer texts, we first split the input text into chunks of sizes smaller than 512 tokens; we then  summarize each chunk separately; finally, we concatenate the individual chunk summaries to get the full summary.     "
   ]
  },
  {
   "cell_type": "code",
   "execution_count": 6,
   "id": "f74e6ae3",
   "metadata": {},
   "outputs": [
    {
     "name": "stdout",
     "output_type": "stream",
     "text": [
      "==> SUMMARY:\n",
      "a small proportion of studies referred to instances where demographic change was related to positive effects on biodiversity . findings call for a broader consideration of important mediating factors such as age, gender, and socio-economic activities .boreal forests and taiga regions were not represented at all in our studies . other important biomes such as tropical and subtropical forests, mangroves, temperate grasslands, savannas, and shrublands were only sparsely considered \n"
     ]
    }
   ],
   "source": [
    "# Split text into chunks, which fit into the transformer context window\n",
    "chunks = chunk_text(text_to_summarize)\n",
    "    \n",
    "# Choose model (facebook/bart-large-cnn, t5-small, t5-base, t5-large, t5-3b, t5-11b)\n",
    "model = 't5-large'\n",
    "\n",
    "# Initialize the HuggingFace summarization pipeline\n",
    "summarizer = pipeline('summarization', model=model, tokenizer=model, framework='tf')\n",
    "\n",
    "# Create summary for each chunk and concatenate\n",
    "summary = ''\n",
    "for chunk in chunks:\n",
    "    sum_tmp = summarizer(chunk, min_length=30, max_length=60)\n",
    "    summary += sum_tmp[0]['summary_text']\n",
    "# Print summarized text\n",
    "print('==> SUMMARY:')\n",
    "print(summary)"
   ]
  },
  {
   "cell_type": "code",
   "execution_count": 7,
   "id": "64eac5ee",
   "metadata": {},
   "outputs": [
    {
     "name": "stdout",
     "output_type": "stream",
     "text": [
      "about-time==3.1.1\n",
      "absl-py==0.13.0\n",
      "alabaster==0.7.12\n",
      "argon2-cffi==21.1.0\n",
      "arrow==1.2.0\n",
      "astunparse==1.6.3\n",
      "attrs==21.2.0\n",
      "Babel==2.9.1\n",
      "backcall @ file:///home/ktietz/src/ci/backcall_1611930011877/work\n",
      "beautifulsoup4==4.10.0\n",
      "bibtexparser==1.2.0\n",
      "bleach==4.1.0\n",
      "blis==0.7.4\n",
      "breadability==0.1.20\n",
      "bs4==0.0.1\n",
      "build==0.3.0\n",
      "cachetools==4.2.2\n",
      "catalogue==2.0.6\n",
      "certifi==2020.12.5\n",
      "cffi==1.14.5\n",
      "chardet==4.0.0\n",
      "charset-normalizer==2.0.3\n",
      "click==8.0.3\n",
      "colorama @ file:///tmp/build/80754af9/colorama_1607707115595/work\n",
      "cryptography==3.4.6\n",
      "cssselect==1.1.0\n",
      "cycler==0.11.0\n",
      "cymem==2.0.5\n",
      "Cython==0.29.23\n",
      "de-core-news-sm @ https://github.com/explosion/spacy-models/releases/download/de_core_news_sm-3.1.0/de_core_news_sm-3.1.0-py3-none-any.whl\n",
      "decorator @ file:///tmp/build/80754af9/decorator_1621259047763/work\n",
      "definitions==0.2.0\n",
      "defusedxml==0.7.1\n",
      "docopt==0.6.2\n",
      "docutils==0.17.1\n",
      "en-core-web-lg @ https://github.com/explosion/spacy-models/releases/download/en_core_web_lg-3.1.0/en_core_web_lg-3.1.0-py3-none-any.whl\n",
      "entrypoints==0.3\n",
      "et-xmlfile==1.1.0\n",
      "fake-useragent==0.1.11\n",
      "feedfinder2==0.0.4\n",
      "feedparser==6.0.8\n",
      "filelock==3.3.1\n",
      "flatbuffers==1.12\n",
      "free-proxy==1.0.3\n",
      "future==0.18.2\n",
      "futures==3.0.5\n",
      "fuzzywuzzy==0.18.0\n",
      "gast==0.4.0\n",
      "google-auth==1.34.0\n",
      "google-auth-oauthlib==0.4.5\n",
      "google-pasta==0.2.0\n",
      "google-search-results==2.4.0\n",
      "goslate==1.5.1\n",
      "grapheme==0.6.0\n",
      "grpcio==1.34.1\n",
      "h5py==3.1.0\n",
      "huggingface-hub==0.0.19\n",
      "idna==2.10\n",
      "imagesize==1.2.0\n",
      "ipykernel @ file:///C:/ci/ipykernel_1607454116140/work/dist/ipykernel-5.3.4-py3-none-any.whl\n",
      "ipython @ file:///C:/ci/ipython_1617120911285/work\n",
      "ipython-genutils @ file:///tmp/build/80754af9/ipython_genutils_1606773439826/work\n",
      "ipywidgets==7.6.5\n",
      "jedi @ file:///C:/ci/jedi_1606932640618/work\n",
      "jellyfish==0.9.0\n",
      "jieba3k==0.35.1\n",
      "Jinja2==3.0.2\n",
      "joblib==1.1.0\n",
      "jsonschema==4.1.2\n",
      "jupyter-client @ file:///tmp/build/80754af9/jupyter_client_1616770841739/work\n",
      "jupyter-core @ file:///C:/ci/jupyter_core_1612213515523/work\n",
      "jupyterlab-pygments==0.1.2\n",
      "jupyterlab-widgets==1.0.2\n",
      "keras-nightly==2.5.0.dev2021032900\n",
      "Keras-Preprocessing==1.1.2\n",
      "kiwisolver==1.3.2\n",
      "lxml==4.6.3\n",
      "Markdown==3.3.4\n",
      "MarkupSafe==2.0.1\n",
      "matplotlib==3.4.3\n",
      "mistune==0.8.4\n",
      "multipart==0.2.4\n",
      "murmurhash==1.0.5\n",
      "nbclient==0.5.4\n",
      "nbconvert==6.2.0\n",
      "nbformat==5.1.3\n",
      "nest-asyncio==1.5.1\n",
      "networkx==2.6.3\n",
      "newspaper3k==0.2.8\n",
      "nltk==3.6.5\n",
      "notebook==6.4.5\n",
      "numpy==1.19.5\n",
      "oauthlib==3.1.1\n",
      "openpyxl==3.0.9\n",
      "opt-einsum==3.3.0\n",
      "packaging==20.9\n",
      "pandas==1.3.3\n",
      "pandocfilters==1.5.0\n",
      "parso==0.7.0\n",
      "pathy==0.6.0\n",
      "pdfservices-sdk==1.0.1\n",
      "pep517==0.9.1\n",
      "pickleshare @ file:///tmp/build/80754af9/pickleshare_1606932040724/work\n",
      "Pillow==8.4.0\n",
      "polling==0.3.1\n",
      "polling2==0.4.6\n",
      "preshed==3.0.5\n",
      "prometheus-client==0.11.0\n",
      "prompt-toolkit @ file:///tmp/build/80754af9/prompt-toolkit_1616415428029/work\n",
      "protobuf==3.17.3\n",
      "pyasn1==0.4.8\n",
      "pyasn1-modules==0.2.8\n",
      "pycountry==20.7.3\n",
      "pycparser==2.20\n",
      "pydantic==1.8.2\n",
      "PyDictionary==2.0.1\n",
      "Pygments==2.8.0\n",
      "PyJWT==2.0.1\n",
      "pyparsing==2.4.7\n",
      "PyPDF2==1.26.0\n",
      "pyrsistent==0.18.0\n",
      "PySocks==1.7.1\n",
      "python-dateutil @ file:///tmp/build/80754af9/python-dateutil_1626374649649/work\n",
      "python-dotenv==0.19.0\n",
      "pytz==2021.3\n",
      "pywin32==228\n",
      "pywinpty==1.1.4\n",
      "PyYAML==5.4.1\n",
      "pyzmq==20.0.0\n",
      "rake-nltk==1.0.6\n",
      "regex==2021.10.8\n",
      "requests==2.25.1\n",
      "requests-file==1.5.1\n",
      "requests-oauthlib==1.3.0\n",
      "requests-toolbelt==0.9.1\n",
      "rsa==4.7.2\n",
      "sacremoses==0.0.46\n",
      "scholarly==1.4.1\n",
      "scikit-learn==1.0.1\n",
      "scipy==1.7.1\n",
      "segtok==1.5.11\n",
      "selenium==3.141.0\n",
      "Send2Trash==1.8.0\n",
      "sgmllib3k==1.0.0\n",
      "six==1.15.0\n",
      "smart-open==5.2.1\n",
      "snowballstemmer==2.1.0\n",
      "soupsieve==2.2.1\n",
      "spacy==3.1.3\n",
      "spacy-legacy==3.0.8\n",
      "Sphinx==4.2.0\n",
      "sphinx-rtd-theme==1.0.0\n",
      "sphinxcontrib-applehelp==1.0.2\n",
      "sphinxcontrib-devhelp==1.0.2\n",
      "sphinxcontrib-htmlhelp==2.0.0\n",
      "sphinxcontrib-jsmath==1.0.1\n",
      "sphinxcontrib-qthelp==1.0.3\n",
      "sphinxcontrib-serializinghtml==1.1.5\n",
      "srsly==2.4.1\n",
      "stem==1.8.0\n",
      "sumy==0.9.0\n",
      "tabulate==0.8.9\n",
      "tensorboard==2.5.0\n",
      "tensorboard-data-server==0.6.1\n",
      "tensorboard-plugin-wit==1.8.0\n",
      "tensorflow==2.5.0\n",
      "tensorflow-estimator==2.5.0\n",
      "termcolor==1.1.0\n",
      "terminado==0.12.1\n",
      "testpath==0.5.0\n",
      "thinc==8.0.10\n",
      "threadpoolctl==3.0.0\n",
      "tinysegmenter==0.3\n",
      "tldextract==3.1.2\n",
      "tokenizers==0.10.3\n",
      "toml==0.10.2\n",
      "tornado @ file:///C:/ci/tornado_1606924294691/work\n",
      "tqdm==4.62.3\n",
      "traitlets @ file:///home/ktietz/src/ci/traitlets_1611929699868/work\n",
      "transformers==4.11.3\n",
      "typer==0.4.0\n",
      "typing-extensions==3.7.4.3\n",
      "urllib3==1.26.3\n",
      "wasabi==0.8.2\n",
      "wcwidth @ file:///tmp/build/80754af9/wcwidth_1593447189090/work\n",
      "webencodings==0.5.1\n",
      "Werkzeug==2.0.1\n",
      "widgetsnbextension==3.5.1\n",
      "wincertstore==0.2\n",
      "wrapt==1.12.1\n",
      "XlsxWriter==3.0.2\n",
      "yake==0.4.8\n"
     ]
    }
   ],
   "source": [
    "!pip freeze"
   ]
  },
  {
   "cell_type": "code",
   "execution_count": null,
   "id": "c9c731be",
   "metadata": {},
   "outputs": [],
   "source": []
  }
 ],
 "metadata": {
  "kernelspec": {
   "display_name": "Python [conda env:ai4ki]",
   "language": "python",
   "name": "conda-env-ai4ki-py"
  },
  "language_info": {
   "codemirror_mode": {
    "name": "ipython",
    "version": 3
   },
   "file_extension": ".py",
   "mimetype": "text/x-python",
   "name": "python",
   "nbconvert_exporter": "python",
   "pygments_lexer": "ipython3",
   "version": "3.9.5"
  }
 },
 "nbformat": 4,
 "nbformat_minor": 5
}
